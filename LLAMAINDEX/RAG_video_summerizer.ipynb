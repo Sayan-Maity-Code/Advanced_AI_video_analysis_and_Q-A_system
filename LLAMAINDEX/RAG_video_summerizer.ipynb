{
 "cells": [
  {
   "cell_type": "code",
   "execution_count": null,
   "metadata": {},
   "outputs": [],
   "source": []
  },
  {
   "cell_type": "markdown",
   "metadata": {},
   "source": [
    "1.Download video from youtube, process and store\n",
    "\n",
    "\n",
    "2.Build Multi-Model index and vector store for both texts and images.\n",
    "\n",
    "\n",
    "3.Retrieve relevant imags and context, use both to augment the prompt.\n",
    "\n",
    "\n",
    "4.GPT4V for reasoning the correlations between the input query and augmented data and generating final response."
   ]
  },
  {
   "cell_type": "markdown",
   "metadata": {},
   "source": []
  }
 ],
 "metadata": {
  "language_info": {
   "name": "python"
  }
 },
 "nbformat": 4,
 "nbformat_minor": 2
}
